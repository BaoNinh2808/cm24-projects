{
 "cells": [
  {
   "cell_type": "markdown",
   "id": "Pch48E7FaCB3",
   "metadata": {
    "id": "Pch48E7FaCB3"
   },
   "source": [
    "# IMPORT Library:"
   ]
  },
  {
   "cell_type": "code",
   "execution_count": 1,
   "id": "xrnAQKtiaGn2",
   "metadata": {
    "id": "xrnAQKtiaGn2"
   },
   "outputs": [],
   "source": [
    "# check if notebook is in colab\n",
    "try:\n",
    "    # install ezkl\n",
    "    import google.colab\n",
    "    import subprocess\n",
    "    import sys\n",
    "    subprocess.check_call([sys.executable, \"-m\", \"pip\", \"install\", \"ezkl\"])\n",
    "    subprocess.check_call([sys.executable, \"-m\", \"pip\", \"install\", \"onnx\"])\n",
    "\n",
    "# rely on local installation of ezkl if the notebook is not in colab\n",
    "except:\n",
    "    pass\n",
    "\n",
    "\n",
    "# here we create and (potentially train a model)\n",
    "\n",
    "# make sure you have the dependencies required here already installed\n",
    "from torch import nn\n",
    "import ezkl\n",
    "import os\n",
    "import json\n",
    "import torch\n",
    "from PIL import Image"
   ]
  },
  {
   "cell_type": "markdown",
   "id": "zTUmvTjiaj1h",
   "metadata": {
    "id": "zTUmvTjiaj1h"
   },
   "source": [
    "# DEFINE PATH"
   ]
  },
  {
   "cell_type": "code",
   "execution_count": 2,
   "id": "Btg8HA8B5QEd",
   "metadata": {
    "id": "Btg8HA8B5QEd"
   },
   "outputs": [],
   "source": [
    "!mkdir generating_files"
   ]
  },
  {
   "cell_type": "code",
   "execution_count": 3,
   "id": "YY92KoqFalkd",
   "metadata": {
    "id": "YY92KoqFalkd"
   },
   "outputs": [],
   "source": [
    "model_path = os.path.join('generating_files/network.onnx')\n",
    "compiled_model_path = os.path.join('generating_files/network.compiled')\n",
    "pk_path = os.path.join('generating_files/proving_key.pk')\n",
    "vk_path = os.path.join('generating_files/verification_key.vk')\n",
    "settings_path = os.path.join('generating_files/settings.json')\n",
    "\n",
    "witness_path = os.path.join('generating_files/witness.json')\n",
    "data_path = os.path.join('generating_files/input.json')"
   ]
  },
  {
   "cell_type": "markdown",
   "id": "s9bbePJiaKaT",
   "metadata": {
    "id": "s9bbePJiaKaT"
   },
   "source": [
    "# CREATE .ONNX FILE"
   ]
  },
  {
   "cell_type": "code",
   "execution_count": 4,
   "id": "vwiWcvJrmyn4",
   "metadata": {
    "id": "vwiWcvJrmyn4"
   },
   "outputs": [],
   "source": [
    "def divide_image_to_4_parts(x, w, h):\n",
    "    # Create a copy of x without gradients\n",
    "    x_copy = x.detach().clone()\n",
    "\n",
    "    # Compute midpoints\n",
    "    mid_w, mid_h = w // 2, h // 2\n",
    "\n",
    "    # Divide into four parts\n",
    "    top_left = x_copy[:, :, :mid_w, :mid_h]\n",
    "    top_right = x_copy[:, :, :mid_w, mid_h:]\n",
    "    bottom_left = x_copy[:, :, mid_w:, :mid_h]\n",
    "    bottom_right = x_copy[:, :, mid_w:, mid_h:]\n",
    "\n",
    "    return top_left, top_right, bottom_left, bottom_right"
   ]
  },
  {
   "cell_type": "code",
   "execution_count": 5,
   "id": "RS03gSkkaNfH",
   "metadata": {
    "id": "RS03gSkkaNfH"
   },
   "outputs": [],
   "source": [
    "# Define a model\n",
    "# Set the random seed for reproducibility\n",
    "torch.manual_seed(42)\n",
    "\n",
    "class MyModel(nn.Module):\n",
    "    def __init__(self):\n",
    "        super(MyModel, self).__init__()\n",
    "\n",
    "        self.conv = nn.Conv2d(in_channels=1, out_channels=2, kernel_size=5, stride=2)\n",
    "\n",
    "        self.commit_conv = nn.Conv2d(in_channels=1, out_channels=2, kernel_size=5, stride=2)\n",
    "\n",
    "         # Initialize custom weights and bias\n",
    "        self.commit_conv.weight = nn.Parameter(torch.randn(2, 1, 5, 5))  # Shape must match (out_channels, in_channels, kernel_size, kernel_size)\n",
    "        self.commit_conv.bias = nn.Parameter(torch.randn(2))  # Shape must match the out_channels\n",
    "\n",
    "\n",
    "    def forward(self, x):\n",
    "        top_left, top_right, bottom_left, bottom_right = divide_image_to_4_parts(x, x.shape[2], x.shape[3])\n",
    "\n",
    "        # mean conv result of each part\n",
    "        mean_tl = torch.mean(self.commit_conv(top_left)).unsqueeze(0)\n",
    "        mean_tr = torch.mean(self.commit_conv(top_right)).unsqueeze(0)\n",
    "        mean_bl = torch.mean(self.commit_conv(bottom_left)).unsqueeze(0)\n",
    "        mean_br = torch.mean(self.commit_conv(bottom_right)).unsqueeze(0)\n",
    "\n",
    "\n",
    "        # Pass through convolution layer and flatten the result\n",
    "        res = self.conv(x).flatten()\n",
    "\n",
    "        # Concatenate sum tensor with flattened convolution output\n",
    "        final = torch.cat((mean_tl, mean_tr, mean_bl, mean_br, res), dim=0)\n",
    "\n",
    "        return final\n",
    "\n",
    "\n",
    "circuit = MyModel()"
   ]
  },
  {
   "cell_type": "code",
   "execution_count": 6,
   "id": "yJPpx3HAbApS",
   "metadata": {
    "id": "yJPpx3HAbApS"
   },
   "outputs": [],
   "source": [
    "# create a dummy data use for export onnx model (because export require run the model to trace)\n",
    "x = torch.rand(1, 1, 28, 28)"
   ]
  },
  {
   "cell_type": "code",
   "execution_count": 7,
   "id": "fWxxCXBZaePq",
   "metadata": {
    "id": "fWxxCXBZaePq"
   },
   "outputs": [],
   "source": [
    "# Flips the neural net into inference mode\n",
    "circuit.eval()\n",
    "\n",
    "# Export the model\n",
    "torch.onnx.export(circuit,               # model being run\n",
    "                      x,                   # model input (or a tuple for multiple inputs)\n",
    "                      model_path,            # where to save the model (can be a file or file-like object)\n",
    "                      export_params=True,        # store the trained parameter weights inside the model file\n",
    "                      opset_version=18,          # the ONNX version to export the model to\n",
    "                      do_constant_folding=False,  # whether to execute constant folding for optimization\n",
    "                      input_names = ['input'],   # the model's input names\n",
    "                      output_names = ['output'], # the model's output names\n",
    "                      dynamic_axes={'input' : {0 : 'batch_size'},    # variable length axes\n",
    "                                    'output' : {0 : 'batch_size'}})\n"
   ]
  },
  {
   "cell_type": "code",
   "execution_count": 8,
   "id": "LMl2AzqGbuvo",
   "metadata": {
    "colab": {
     "base_uri": "https://localhost:8080/"
    },
    "id": "LMl2AzqGbuvo",
    "outputId": "53f2c402-d4fa-450e-cdee-a5ed7d8d4fae"
   },
   "outputs": [
    {
     "name": "stdout",
     "output_type": "stream",
     "text": [
      "graph main_graph (\n",
      "  %input[FLOAT, batch_sizex1x28x28]\n",
      ") initializers (\n",
      "  %conv.weight[FLOAT, 2x1x5x5]\n",
      "  %conv.bias[FLOAT, 2]\n",
      "  %commit_conv.weight[FLOAT, 2x1x5x5]\n",
      "  %commit_conv.bias[FLOAT, 2]\n",
      ") {\n",
      "  %/Constant_output_0 = Constant[value = <Scalar Tensor []>]()\n",
      "  %/Shape_output_0 = Shape(%input)\n",
      "  %/Constant_1_output_0 = Constant[value = <Scalar Tensor []>]()\n",
      "  %/Gather_output_0 = Gather[axis = 0](%/Shape_output_0, %/Constant_1_output_0)\n",
      "  %/Constant_2_output_0 = Constant[value = <Scalar Tensor []>]()\n",
      "  %/Shape_1_output_0 = Shape(%input)\n",
      "  %/Constant_3_output_0 = Constant[value = <Scalar Tensor []>]()\n",
      "  %/Gather_1_output_0 = Gather[axis = 0](%/Shape_1_output_0, %/Constant_3_output_0)\n",
      "  %/Constant_4_output_0 = Constant[value = <Scalar Tensor []>]()\n",
      "  %/Div_output_0 = Div(%/Gather_output_0, %/Constant_4_output_0)\n",
      "  %/Cast_output_0 = Cast[to = 7](%/Div_output_0)\n",
      "  %/Cast_1_output_0 = Cast[to = 7](%/Cast_output_0)\n",
      "  %/Constant_5_output_0 = Constant[value = <Scalar Tensor []>]()\n",
      "  %/Div_1_output_0 = Div(%/Gather_1_output_0, %/Constant_5_output_0)\n",
      "  %/Cast_2_output_0 = Cast[to = 7](%/Div_1_output_0)\n",
      "  %/Cast_3_output_0 = Cast[to = 7](%/Cast_2_output_0)\n",
      "  %/Constant_6_output_0 = Constant[value = <Scalar Tensor []>]()\n",
      "  %/Constant_7_output_0 = Constant[value = <Scalar Tensor []>]()\n",
      "  %/Constant_8_output_0 = Constant[value = <Scalar Tensor []>]()\n",
      "  %/Constant_9_output_0 = Constant[value = <Tensor>]()\n",
      "  %/Unsqueeze_output_0 = Unsqueeze(%/Constant_output_0, %/Constant_9_output_0)\n",
      "  %/Constant_10_output_0 = Constant[value = <Tensor>]()\n",
      "  %/Unsqueeze_1_output_0 = Unsqueeze(%/Constant_6_output_0, %/Constant_10_output_0)\n",
      "  %/Constant_11_output_0 = Constant[value = <Tensor>]()\n",
      "  %/Unsqueeze_2_output_0 = Unsqueeze(%/Cast_1_output_0, %/Constant_11_output_0)\n",
      "  %/Constant_12_output_0 = Constant[value = <Tensor>]()\n",
      "  %/Unsqueeze_3_output_0 = Unsqueeze(%/Constant_8_output_0, %/Constant_12_output_0)\n",
      "  %/Slice_output_0 = Slice(%input, %/Unsqueeze_1_output_0, %/Unsqueeze_2_output_0, %/Unsqueeze_output_0, %/Unsqueeze_3_output_0)\n",
      "  %/Constant_13_output_0 = Constant[value = <Tensor>]()\n",
      "  %/Unsqueeze_4_output_0 = Unsqueeze(%/Constant_2_output_0, %/Constant_13_output_0)\n",
      "  %/Constant_14_output_0 = Constant[value = <Tensor>]()\n",
      "  %/Unsqueeze_5_output_0 = Unsqueeze(%/Constant_6_output_0, %/Constant_14_output_0)\n",
      "  %/Constant_15_output_0 = Constant[value = <Tensor>]()\n",
      "  %/Unsqueeze_6_output_0 = Unsqueeze(%/Cast_3_output_0, %/Constant_15_output_0)\n",
      "  %/Constant_16_output_0 = Constant[value = <Tensor>]()\n",
      "  %/Unsqueeze_7_output_0 = Unsqueeze(%/Constant_8_output_0, %/Constant_16_output_0)\n",
      "  %/Slice_1_output_0 = Slice(%/Slice_output_0, %/Unsqueeze_5_output_0, %/Unsqueeze_6_output_0, %/Unsqueeze_4_output_0, %/Unsqueeze_7_output_0)\n",
      "  %/Constant_17_output_0 = Constant[value = <Tensor>]()\n",
      "  %/Unsqueeze_8_output_0 = Unsqueeze(%/Constant_2_output_0, %/Constant_17_output_0)\n",
      "  %/Constant_18_output_0 = Constant[value = <Tensor>]()\n",
      "  %/Unsqueeze_9_output_0 = Unsqueeze(%/Cast_3_output_0, %/Constant_18_output_0)\n",
      "  %/Constant_19_output_0 = Constant[value = <Tensor>]()\n",
      "  %/Unsqueeze_10_output_0 = Unsqueeze(%/Constant_7_output_0, %/Constant_19_output_0)\n",
      "  %/Constant_20_output_0 = Constant[value = <Tensor>]()\n",
      "  %/Unsqueeze_11_output_0 = Unsqueeze(%/Constant_8_output_0, %/Constant_20_output_0)\n",
      "  %/Slice_2_output_0 = Slice(%/Slice_output_0, %/Unsqueeze_9_output_0, %/Unsqueeze_10_output_0, %/Unsqueeze_8_output_0, %/Unsqueeze_11_output_0)\n",
      "  %/Constant_21_output_0 = Constant[value = <Tensor>]()\n",
      "  %/Unsqueeze_12_output_0 = Unsqueeze(%/Constant_output_0, %/Constant_21_output_0)\n",
      "  %/Constant_22_output_0 = Constant[value = <Tensor>]()\n",
      "  %/Unsqueeze_13_output_0 = Unsqueeze(%/Cast_1_output_0, %/Constant_22_output_0)\n",
      "  %/Constant_23_output_0 = Constant[value = <Tensor>]()\n",
      "  %/Unsqueeze_14_output_0 = Unsqueeze(%/Constant_7_output_0, %/Constant_23_output_0)\n",
      "  %/Constant_24_output_0 = Constant[value = <Tensor>]()\n",
      "  %/Unsqueeze_15_output_0 = Unsqueeze(%/Constant_8_output_0, %/Constant_24_output_0)\n",
      "  %/Slice_3_output_0 = Slice(%input, %/Unsqueeze_13_output_0, %/Unsqueeze_14_output_0, %/Unsqueeze_12_output_0, %/Unsqueeze_15_output_0)\n",
      "  %/Constant_25_output_0 = Constant[value = <Tensor>]()\n",
      "  %/Unsqueeze_16_output_0 = Unsqueeze(%/Constant_2_output_0, %/Constant_25_output_0)\n",
      "  %/Constant_26_output_0 = Constant[value = <Tensor>]()\n",
      "  %/Unsqueeze_17_output_0 = Unsqueeze(%/Constant_6_output_0, %/Constant_26_output_0)\n",
      "  %/Constant_27_output_0 = Constant[value = <Tensor>]()\n",
      "  %/Unsqueeze_18_output_0 = Unsqueeze(%/Cast_3_output_0, %/Constant_27_output_0)\n",
      "  %/Constant_28_output_0 = Constant[value = <Tensor>]()\n",
      "  %/Unsqueeze_19_output_0 = Unsqueeze(%/Constant_8_output_0, %/Constant_28_output_0)\n",
      "  %/Slice_4_output_0 = Slice(%/Slice_3_output_0, %/Unsqueeze_17_output_0, %/Unsqueeze_18_output_0, %/Unsqueeze_16_output_0, %/Unsqueeze_19_output_0)\n",
      "  %/Constant_29_output_0 = Constant[value = <Tensor>]()\n",
      "  %/Unsqueeze_20_output_0 = Unsqueeze(%/Constant_2_output_0, %/Constant_29_output_0)\n",
      "  %/Constant_30_output_0 = Constant[value = <Tensor>]()\n",
      "  %/Unsqueeze_21_output_0 = Unsqueeze(%/Cast_3_output_0, %/Constant_30_output_0)\n",
      "  %/Constant_31_output_0 = Constant[value = <Tensor>]()\n",
      "  %/Unsqueeze_22_output_0 = Unsqueeze(%/Constant_7_output_0, %/Constant_31_output_0)\n",
      "  %/Constant_32_output_0 = Constant[value = <Tensor>]()\n",
      "  %/Unsqueeze_23_output_0 = Unsqueeze(%/Constant_8_output_0, %/Constant_32_output_0)\n",
      "  %/Slice_5_output_0 = Slice(%/Slice_3_output_0, %/Unsqueeze_21_output_0, %/Unsqueeze_22_output_0, %/Unsqueeze_20_output_0, %/Unsqueeze_23_output_0)\n",
      "  %/commit_conv/Conv_output_0 = Conv[dilations = [1, 1], group = 1, kernel_shape = [5, 5], pads = [0, 0, 0, 0], strides = [2, 2]](%/Slice_1_output_0, %commit_conv.weight, %commit_conv.bias)\n",
      "  %/ReduceMean_output_0 = ReduceMean[keepdims = 0](%/commit_conv/Conv_output_0)\n",
      "  %/Constant_33_output_0 = Constant[value = <Tensor>]()\n",
      "  %/Unsqueeze_24_output_0 = Unsqueeze(%/ReduceMean_output_0, %/Constant_33_output_0)\n",
      "  %/commit_conv_1/Conv_output_0 = Conv[dilations = [1, 1], group = 1, kernel_shape = [5, 5], pads = [0, 0, 0, 0], strides = [2, 2]](%/Slice_2_output_0, %commit_conv.weight, %commit_conv.bias)\n",
      "  %/ReduceMean_1_output_0 = ReduceMean[keepdims = 0](%/commit_conv_1/Conv_output_0)\n",
      "  %/Constant_34_output_0 = Constant[value = <Tensor>]()\n",
      "  %/Unsqueeze_25_output_0 = Unsqueeze(%/ReduceMean_1_output_0, %/Constant_34_output_0)\n",
      "  %/commit_conv_2/Conv_output_0 = Conv[dilations = [1, 1], group = 1, kernel_shape = [5, 5], pads = [0, 0, 0, 0], strides = [2, 2]](%/Slice_4_output_0, %commit_conv.weight, %commit_conv.bias)\n",
      "  %/ReduceMean_2_output_0 = ReduceMean[keepdims = 0](%/commit_conv_2/Conv_output_0)\n",
      "  %/Constant_35_output_0 = Constant[value = <Tensor>]()\n",
      "  %/Unsqueeze_26_output_0 = Unsqueeze(%/ReduceMean_2_output_0, %/Constant_35_output_0)\n",
      "  %/commit_conv_3/Conv_output_0 = Conv[dilations = [1, 1], group = 1, kernel_shape = [5, 5], pads = [0, 0, 0, 0], strides = [2, 2]](%/Slice_5_output_0, %commit_conv.weight, %commit_conv.bias)\n",
      "  %/ReduceMean_3_output_0 = ReduceMean[keepdims = 0](%/commit_conv_3/Conv_output_0)\n",
      "  %/Constant_36_output_0 = Constant[value = <Tensor>]()\n",
      "  %/Unsqueeze_27_output_0 = Unsqueeze(%/ReduceMean_3_output_0, %/Constant_36_output_0)\n",
      "  %/conv/Conv_output_0 = Conv[dilations = [1, 1], group = 1, kernel_shape = [5, 5], pads = [0, 0, 0, 0], strides = [2, 2]](%input, %conv.weight, %conv.bias)\n",
      "  %/Shape_2_output_0 = Shape(%/conv/Conv_output_0)\n",
      "  %/Constant_37_output_0 = Constant[value = <Tensor>]()\n",
      "  %/Constant_38_output_0 = Constant[value = <Tensor>]()\n",
      "  %/Constant_39_output_0 = Constant[value = <Tensor>]()\n",
      "  %/Slice_6_output_0 = Slice(%/Shape_2_output_0, %/Constant_38_output_0, %/Constant_39_output_0, %/Constant_37_output_0)\n",
      "  %/Constant_40_output_0 = Constant[value = <Tensor>]()\n",
      "  %/Concat_output_0 = Concat[axis = 0](%/Slice_6_output_0, %/Constant_40_output_0)\n",
      "  %/Reshape_output_0 = Reshape[allowzero = 0](%/conv/Conv_output_0, %/Concat_output_0)\n",
      "  %output = Concat[axis = 0](%/Unsqueeze_24_output_0, %/Unsqueeze_25_output_0, %/Unsqueeze_26_output_0, %/Unsqueeze_27_output_0, %/Reshape_output_0)\n",
      "  return %output\n",
      "}\n"
     ]
    }
   ],
   "source": [
    "# print onnx file\n",
    "import onnx\n",
    "\n",
    "# Load the ONNX model\n",
    "model = onnx.load(model_path)\n",
    "\n",
    "# Print a human-readable representation of the model\n",
    "print(onnx.helper.printable_graph(model.graph))"
   ]
  },
  {
   "cell_type": "markdown",
   "id": "PqQ0fTXJbocJ",
   "metadata": {
    "id": "PqQ0fTXJbocJ"
   },
   "source": [
    "# SET UP"
   ]
  },
  {
   "cell_type": "code",
   "execution_count": 9,
   "id": "_GGmHhwOb8em",
   "metadata": {
    "id": "_GGmHhwOb8em"
   },
   "outputs": [],
   "source": [
    "py_run_args = ezkl.PyRunArgs()\n",
    "py_run_args.input_visibility = \"private\"\n",
    "py_run_args.output_visibility = \"public\"\n",
    "py_run_args.param_visibility = \"fixed\" # private by default\n",
    "py_run_args.input_scale = 40\n",
    "py_run_args.param_scale = 43\n",
    "py_run_args.scale_rebase_multiplier = 10\n",
    "\n",
    "res = ezkl.gen_settings(model_path, settings_path, py_run_args=py_run_args)\n",
    "\n",
    "assert res == True"
   ]
  },
  {
   "cell_type": "code",
   "execution_count": 10,
   "id": "tkPJNlXEeaDi",
   "metadata": {
    "id": "tkPJNlXEeaDi"
   },
   "outputs": [],
   "source": [
    "res = ezkl.compile_circuit(model_path, compiled_model_path, settings_path)\n",
    "assert res == True"
   ]
  },
  {
   "cell_type": "code",
   "execution_count": 11,
   "id": "sC5GCZIUei1F",
   "metadata": {
    "id": "sC5GCZIUei1F"
   },
   "outputs": [],
   "source": [
    "# srs path\n",
    "res = await ezkl.get_srs(settings_path)"
   ]
  },
  {
   "cell_type": "code",
   "execution_count": 12,
   "id": "b4oNpysx3WYZ",
   "metadata": {
    "colab": {
     "base_uri": "https://localhost:8080/"
    },
    "id": "b4oNpysx3WYZ",
    "outputId": "d107bb27-7627-4ad2-ff11-6a4bdc702479"
   },
   "outputs": [
    {
     "name": "stdout",
     "output_type": "stream",
     "text": [
      "Downloading data from https://storage.googleapis.com/tensorflow/tf-keras-datasets/mnist.npz\n",
      "\u001b[1m11490434/11490434\u001b[0m \u001b[32m━━━━━━━━━━━━━━━━━━━━\u001b[0m\u001b[37m\u001b[0m \u001b[1m0s\u001b[0m 0us/step\n",
      "torch.Size([60000, 1, 28, 28])\n"
     ]
    }
   ],
   "source": [
    "# Input for model, use grayscale image from MNIST dataset\n",
    "from keras.datasets import mnist\n",
    "(train_X, train_y), (test_X, test_y) = mnist.load_data()\n",
    "train_X = torch.from_numpy(train_X) / 255.0\n",
    "train_X = train_X.unsqueeze(1)\n",
    "print(train_X.shape)\n",
    "# print(train_X[0])"
   ]
  },
  {
   "cell_type": "code",
   "execution_count": 13,
   "id": "LzaLVHGd4DcQ",
   "metadata": {
    "id": "LzaLVHGd4DcQ"
   },
   "outputs": [],
   "source": [
    "# Use the first image in the dataset to demo\n",
    "data_array = ((train_X[0]).detach().numpy()).reshape([-1]).tolist()\n",
    "\n",
    "data = dict(input_data = [data_array])\n",
    "\n",
    "# Serialize data into file:\n",
    "json.dump( data, open(data_path, 'w' ))"
   ]
  },
  {
   "cell_type": "code",
   "execution_count": 14,
   "id": "ZqW7w4vaemed",
   "metadata": {
    "id": "ZqW7w4vaemed"
   },
   "outputs": [],
   "source": [
    "# now generate the witness file\n",
    "\n",
    "res = await ezkl.gen_witness(data_path, compiled_model_path, witness_path)\n",
    "assert os.path.isfile(witness_path)"
   ]
  },
  {
   "cell_type": "code",
   "execution_count": 15,
   "id": "n3V8-j0WepaL",
   "metadata": {
    "colab": {
     "base_uri": "https://localhost:8080/"
    },
    "id": "n3V8-j0WepaL",
    "outputId": "6c7676b3-fdb5-49fd-d7fd-e5059edda3da"
   },
   "outputs": [
    {
     "name": "stdout",
     "output_type": "stream",
     "text": [
      "Elapsed time: 29.788386 seconds\n"
     ]
    }
   ],
   "source": [
    "\n",
    "# HERE WE SETUP THE CIRCUIT PARAMS\n",
    "# WE GOT KEYS\n",
    "# WE GOT CIRCUIT PARAMETERS\n",
    "# EVERYTHING ANYONE HAS EVER NEEDED FOR ZK\n",
    "\n",
    "\n",
    "import time\n",
    "\n",
    "# Start time\n",
    "start_time = time.time()\n",
    "\n",
    "res = ezkl.setup(\n",
    "        compiled_model_path,\n",
    "        vk_path,\n",
    "        pk_path,\n",
    "\n",
    "    )\n",
    "\n",
    "assert res == True\n",
    "assert os.path.isfile(vk_path)\n",
    "assert os.path.isfile(pk_path)\n",
    "assert os.path.isfile(settings_path)\n",
    "\n",
    "# End time\n",
    "end_time = time.time()\n",
    "\n",
    "# Calculate elapsed time\n",
    "elapsed_time = end_time - start_time\n",
    "print(f\"Elapsed time: {elapsed_time:.6f} seconds\")"
   ]
  },
  {
   "cell_type": "markdown",
   "id": "5nFMvWwGeqJF",
   "metadata": {
    "id": "5nFMvWwGeqJF"
   },
   "source": [
    "# PROVING"
   ]
  },
  {
   "cell_type": "code",
   "execution_count": 16,
   "id": "qe3vTl97er53",
   "metadata": {
    "colab": {
     "base_uri": "https://localhost:8080/"
    },
    "id": "qe3vTl97er53",
    "outputId": "a79b4665-3859-477f-81a6-5b907d97c973"
   },
   "outputs": [
    {
     "name": "stdout",
     "output_type": "stream",
     "text": [
      "{'instances': [['000000000024a5b871d21db21819f20b00000000000000000000000000000000', '0000000000f8a7edcd55eafa12d4831900000000000000000000000000000000', '0000000000a0b4262d1b8e482ed8631400000000000000000000000000000000', '00000000005170d7cd3293a1431fd11900000000000000000000000000000000', '010000f093f5e1439170b979d82c881b5d588181b64550b829a031e1724e6430', '010000f093f5e1439170b979d82c881b5d588181b64550b829a031e1724e6430', '010000f093f5e1439170b979d82c881b5d588181b64550b829a031e1724e6430', '010000f093f5e1439170b979d82c881b5d588181b64550b829a031e1724e6430', '010000f093f5e1439170b979d82c881b5d588181b64550b829a031e1724e6430', '010000f093f5e1439170b979d82c881b5d588181b64550b829a031e1724e6430', '010000f093f5e1439170b979d82c881b5d588181b64550b829a031e1724e6430', '010000f093f5e1439170b979d82c881b5d588181b64550b829a031e1724e6430', '010000f093f5e1439170b979d82c881b5d588181b64550b829a031e1724e6430', '010000f093f5e1439170b979d82c881b5d588181b64550b829a031e1724e6430', '010000f093f5e1439170b979d82c881b5d588181b64550b829a031e1724e6430', '010000f093f5e1439170b979d82c881b5d588181b64550b829a031e1724e6430', '010000f093f5e1439170b979d82c881b5d588181b64550b829a031e1724e6430', '010000f093f5e1439170b979d82c881b5d588181b64550b829a031e1724e6430', '010000f093f5e143915a87394bde571a5d588181b64550b829a031e1724e6430', '010000f093f5e143918a83ddecfb64185d588181b64550b829a031e1724e6430', '010000f093f5e143e1c915ba15e323175d588181b64550b829a031e1724e6430', '010000f093f5e14379d03207525737135d588181b64550b829a031e1724e6430', '010000f093f5e143694065b0451a5a115d588181b64550b829a031e1724e6430', '010000f093f5e14351ccdc58a440190f5d588181b64550b829a031e1724e6430', '010000f093f5e14391a0471a45557d125d588181b64550b829a031e1724e6430', '010000f093f5e14391526e11f2f5ab0e5d588181b64550b829a031e1724e6430', '010000f093f5e14391600f8f8889f5195d588181b64550b829a031e1724e6430', '010000f093f5e143915b21927925cf195d588181b64550b829a031e1724e6430', '010000f093f5e1439170b979d82c881b5d588181b64550b829a031e1724e6430', '010000f093f5e1439170b979d82c881b5d588181b64550b829a031e1724e6430', '010000f093f5e143911b945bc5ad13165d588181b64550b829a031e1724e6430', '010000f093f5e143d15a889d26b8f6195d588181b64550b829a031e1724e6430', '010000f093f5e143d18fc177ed49b11f5d588181b64550b829a031e1724e6430', '0000000000000000a0e9c6756ba3820200000000000000000000000000000000', '000000000000000030e1a033fd9ab40200000000000000000000000000000000', '000000000000000080ae63825914d81600000000000000000000000000000000', '0000000000000000007bf949b9f9220f00000000000000000000000000000000', '000000000000000000b8b643167c091900000000000000000000000000000000', '0000000000000000804a42a7f9a7881200000000000000000000000000000000', '010000f093f5e143114eb2f6e64ec3235d588181b64550b829a031e1724e6430', '010000f093f5e1439170b979d82c881b5d588181b64550b829a031e1724e6430', '010000f093f5e1439170b979d82c881b5d588181b64550b829a031e1724e6430', '010000f093f5e14351dafffc746d0d1b5d588181b64550b829a031e1724e6430', '0000000000000000202873fa24dd2a0a00000000000000000000000000000000', '0000000000000000c0817f912bb3661b00000000000000000000000000000000', '0000000000000000707aababda236b2a00000000000000000000000000000000', '0000000000000000a055e1ab0e0a622c00000000000000000000000000000000', '0000000000000000e0e4abca714d182b00000000000000000000000000000000', '000000000000000080277aeb805c8e1c00000000000000000000000000000000', '0000000000000000009240a5ccf1900b00000000000000000000000000000000', '0000000000000000004ac514f104640800000000000000000000000000000000', '010000f093f5e14391e7010956af13265d588181b64550b829a031e1724e6430', '010000f093f5e1439170b979d82c881b5d588181b64550b829a031e1724e6430', '010000f093f5e1439170b979d82c881b5d588181b64550b829a031e1724e6430', '010000f093f5e1439178d06d44df01175d588181b64550b829a031e1724e6430', '010000f093f5e14361f4d7177ec907285d588181b64550b829a031e1724e6430', '00000000000000006030836fc2cc5e0e00000000000000000000000000000000', '00000000000000007010bfdf91eb242900000000000000000000000000000000', '0000000000000000e8b85558560c5e1100000000000000000000000000000000', '000000000000000058246bb8286c471100000000000000000000000000000000', '0000000000000000000fdda50e69850300000000000000000000000000000000', '010000f093f5e1439170b979d82c881b5d588181b64550b829a031e1724e6430', '010000f093f5e1439170b979d82c881b5d588181b64550b829a031e1724e6430', '010000f093f5e1439170b979d82c881b5d588181b64550b829a031e1724e6430', '010000f093f5e1439170b979d82c881b5d588181b64550b829a031e1724e6430', '010000f093f5e1439170b979d82c881b5d588181b64550b829a031e1724e6430', '010000f093f5e1439170b979d82c881b5d588181b64550b829a031e1724e6430', '010000f093f5e143c1cd5b1ccf9e2a1c5d588181b64550b829a031e1724e6430', '010000f093f5e143f1e769e8cf9560225d588181b64550b829a031e1724e6430', '0000000000000000602d7e140397980800000000000000000000000000000000', '0000000000000000202c5ac02d45700d00000000000000000000000000000000', '010000f093f5e143519d16fecc3fc11a5d588181b64550b829a031e1724e6430', '010000f093f5e14371820d8df76bbe135d588181b64550b829a031e1724e6430', '010000f093f5e143910bce194929f41a5d588181b64550b829a031e1724e6430', '010000f093f5e1439170b979d82c881b5d588181b64550b829a031e1724e6430', '010000f093f5e1439170b979d82c881b5d588181b64550b829a031e1724e6430', '010000f093f5e1439170b979d82c881b5d588181b64550b829a031e1724e6430', '010000f093f5e1439170b979d82c881b5d588181b64550b829a031e1724e6430', '010000f093f5e1439170b979d82c881b5d588181b64550b829a031e1724e6430', '010000f093f5e1439170b979d82c881b5d588181b64550b829a031e1724e6430', '010000f093f5e14391bc948b741ea9185d588181b64550b829a031e1724e6430', '0000000000000000000270e55484cb0600000000000000000000000000000000', '0000000000000000807b50101da71a1600000000000000000000000000000000', '0000000000000000e0fbe4bafb32611000000000000000000000000000000000', '0000000000000000d08f20a2dbd2640700000000000000000000000000000000', '010000f093f5e14391542bf51804a7155d588181b64550b829a031e1724e6430', '010000f093f5e1439170b979d82c881b5d588181b64550b829a031e1724e6430', '010000f093f5e1439170b979d82c881b5d588181b64550b829a031e1724e6430', '010000f093f5e1439170b979d82c881b5d588181b64550b829a031e1724e6430', '010000f093f5e1439170b979d82c881b5d588181b64550b829a031e1724e6430', '010000f093f5e1439170b979d82c881b5d588181b64550b829a031e1724e6430', '010000f093f5e1439170b979d82c881b5d588181b64550b829a031e1724e6430', '010000f093f5e1439170b979d82c881b5d588181b64550b829a031e1724e6430', '010000f093f5e14391507cf60fc525195d588181b64550b829a031e1724e6430', '010000f093f5e14351ff120cb930b5235d588181b64550b829a031e1724e6430', '0000000000000000805b19b37b10091400000000000000000000000000000000', '000000000000000040695064b838351700000000000000000000000000000000', '0000000000000000c05ee20e8c5b260300000000000000000000000000000000', '010000f093f5e143f15b1c538037081b5d588181b64550b829a031e1724e6430', '010000f093f5e1439170b979d82c881b5d588181b64550b829a031e1724e6430', '010000f093f5e1439170b979d82c881b5d588181b64550b829a031e1724e6430', '010000f093f5e1439170b979d82c881b5d588181b64550b829a031e1724e6430', '010000f093f5e1439170b979d82c881b5d588181b64550b829a031e1724e6430', '010000f093f5e143917a4d9fcdba941a5d588181b64550b829a031e1724e6430', '010000f093f5e1439157451dddb794165d588181b64550b829a031e1724e6430', '010000f093f5e143114daa48268b10155d588181b64550b829a031e1724e6430', '010000f093f5e14311769ad098815d195d588181b64550b829a031e1724e6430', '0000000000000000007ccf4f00a6b70d00000000000000000000000000000000', '0000000000000000e0986bee04b43d2300000000000000000000000000000000', '00000000000000004091fb7c66c8b71300000000000000000000000000000000', '010000f093f5e143119107b01478441c5d588181b64550b829a031e1724e6430', '010000f093f5e1439170b979d82c881b5d588181b64550b829a031e1724e6430', '010000f093f5e1439170b979d82c881b5d588181b64550b829a031e1724e6430', '010000f093f5e143919a13055097d11a5d588181b64550b829a031e1724e6430', '010000f093f5e14311b99d0768ce79185d588181b64550b829a031e1724e6430', '010000f093f5e143d1673e5de368f9155d588181b64550b829a031e1724e6430', '010000f093f5e1435194e26bd9bf13155d588181b64550b829a031e1724e6430', '000000000000000000da41f4ac84890200000000000000000000000000000000', '00000000000000000060ee08a3dc5c1700000000000000000000000000000000', '00000000000000008000a81dafda652500000000000000000000000000000000', '0000000000000000207b3e4b0508912600000000000000000000000000000000', '00000000000000000064f7aa4a7f200700000000000000000000000000000000', '010000f093f5e1435146398ef9d29b1b5d588181b64550b829a031e1724e6430', '010000f093f5e1439170b979d82c881b5d588181b64550b829a031e1724e6430', '010000f093f5e1439179af418acdd8165d588181b64550b829a031e1724e6430', '010000f093f5e1431148a975df28dd165d588181b64550b829a031e1724e6430', '010000f093f5e143110acdef94644c1d5d588181b64550b829a031e1724e6430', '010000f093f5e14391a29dd6e31c5b245d588181b64550b829a031e1724e6430', '00000000000000008023ef197978cf1700000000000000000000000000000000', '00000000000000004073fc8904e2e22300000000000000000000000000000000', '000000000000000060b719830bf9412500000000000000000000000000000000', '0000000000000000005dabbcd229ca1000000000000000000000000000000000', '0000000000000000a01306722d63440500000000000000000000000000000000', '010000f093f5e14391483087e17b861e5d588181b64550b829a031e1724e6430', '010000f093f5e1439170b979d82c881b5d588181b64550b829a031e1724e6430', '010000f093f5e1439170b979d82c881b5d588181b64550b829a031e1724e6430', '010000f093f5e143915c2ea1435ccc1c5d588181b64550b829a031e1724e6430', '00000000000000000049be7cd69ced0000000000000000000000000000000000', '0000000000000000001b2255025b081600000000000000000000000000000000', '000000000000000000424f066c1a492000000000000000000000000000000000', '0000000000000000c064b9758d26712500000000000000000000000000000000', '0000000000000000802ca19a7bf1a11300000000000000000000000000000000', '000000000000000080563cbcd724b70500000000000000000000000000000000', '010000f093f5e143919a95caee1ffa1e5d588181b64550b829a031e1724e6430', '010000f093f5e1439170b979d82c881b5d588181b64550b829a031e1724e6430', '010000f093f5e1439170b979d82c881b5d588181b64550b829a031e1724e6430', '010000f093f5e1439170b979d82c881b5d588181b64550b829a031e1724e6430', '010000f093f5e1439170b979d82c881b5d588181b64550b829a031e1724e6430', '010000f093f5e1439170b97990e141235d588181b64550b829a031e1724e6430', '010000f093f5e1439170b97990e141235d588181b64550b829a031e1724e6430', '010000f093f5e1439170b97990e141235d588181b64550b829a031e1724e6430', '010000f093f5e1439170b97990e141235d588181b64550b829a031e1724e6430', '010000f093f5e1439170b97990e141235d588181b64550b829a031e1724e6430', '010000f093f5e1439170b97990e141235d588181b64550b829a031e1724e6430', '010000f093f5e1439170b97990e141235d588181b64550b829a031e1724e6430', '010000f093f5e1439170b97990e141235d588181b64550b829a031e1724e6430', '010000f093f5e1439170b97990e141235d588181b64550b829a031e1724e6430', '010000f093f5e1439170b97990e141235d588181b64550b829a031e1724e6430', '010000f093f5e1439170b97990e141235d588181b64550b829a031e1724e6430', '010000f093f5e1439170b97990e141235d588181b64550b829a031e1724e6430', '010000f093f5e1439170b97990e141235d588181b64550b829a031e1724e6430', '010000f093f5e1439170b97990e141235d588181b64550b829a031e1724e6430', '010000f093f5e1439103197acfe956225d588181b64550b829a031e1724e6430', '010000f093f5e143118582f0cb8d91215d588181b64550b829a031e1724e6430', '010000f093f5e14391613a08474b4c235d588181b64550b829a031e1724e6430', '010000f093f5e143310c9def4cf448275d588181b64550b829a031e1724e6430', '00000000000000005048c304904f460400000000000000000000000000000000', '00000000000000000019b10e30fe800c00000000000000000000000000000000', '00000000000000000096ccdc3788060500000000000000000000000000000000', '000000000000000080ded00b003daf1500000000000000000000000000000000', '000000000000000000a831408a3b930900000000000000000000000000000000', '010000f093f5e1439172e1669e696f225d588181b64550b829a031e1724e6430', '010000f093f5e1439170b97990e141235d588181b64550b829a031e1724e6430', '010000f093f5e1439170b97990e141235d588181b64550b829a031e1724e6430', '010000f093f5e143914695382795a4255d588181b64550b829a031e1724e6430', '0000000000000000001e9c37e8f3371300000000000000000000000000000000', '0000000000000000e07a0d0aec137b1900000000000000000000000000000000', '0000000000000000002f26728f9cdc1f00000000000000000000000000000000', '00000000000000004033cb83d610bf2000000000000000000000000000000000', '00000000000000000002dcdf5420bc2c00000000000000000000000000000000', '00000000000000000030758f84acba1800000000000000000000000000000000', '000000000000000000a23b07ab36c11c00000000000000000000000000000000', '0000000000000000009f1e253ef2811500000000000000000000000000000000', '0000000000000000005658ec7268e90700000000000000000000000000000000', '010000f093f5e1439170b97990e141235d588181b64550b829a031e1724e6430', '010000f093f5e1439170b97990e141235d588181b64550b829a031e1724e6430', '010000f093f5e143918e567a66df401d5d588181b64550b829a031e1724e6430', '000000000000000070fc63bcce234d0d00000000000000000000000000000000', '0000000000000000e8f889596989051800000000000000000000000000000000', '00000000000000003090b1d9bf4ce51600000000000000000000000000000000', '010000f093f5e143115bb9f4b2fc551f5d588181b64550b829a031e1724e6430', '000000000000000040f795c885bef30500000000000000000000000000000000', '010000f093f5e143912378cbc6130c135d588181b64550b829a031e1724e6430', '010000f093f5e1439194b55a0d5a2f0f5d588181b64550b829a031e1724e6430', '010000f093f5e14391e31265992d3b175d588181b64550b829a031e1724e6430', '010000f093f5e1439146a5dcec0e9b1f5d588181b64550b829a031e1724e6430', '010000f093f5e1439170b97990e141235d588181b64550b829a031e1724e6430', '010000f093f5e1439170b97990e141235d588181b64550b829a031e1724e6430', '010000f093f5e1435182971f26642e175d588181b64550b829a031e1724e6430', '010000f093f5e143a1c05e6c29b2c4135d588181b64550b829a031e1724e6430', '010000f093f5e14351b224d1c71cc30b5d588181b64550b829a031e1724e6430', '0000000000000000009129ebaa0f1c0500000000000000000000000000000000', '010000f093f5e14331ab1d352ff21e185d588181b64550b829a031e1724e6430', '010000f093f5e14361dab3f9dc9cb9175d588181b64550b829a031e1724e6430', '010000f093f5e14391bcc9acab2182155d588181b64550b829a031e1724e6430', '010000f093f5e1439170b97990e141235d588181b64550b829a031e1724e6430', '010000f093f5e1439170b97990e141235d588181b64550b829a031e1724e6430', '010000f093f5e1439170b97990e141235d588181b64550b829a031e1724e6430', '010000f093f5e1439170b97990e141235d588181b64550b829a031e1724e6430', '010000f093f5e1439170b97990e141235d588181b64550b829a031e1724e6430', '010000f093f5e1439170b97990e141235d588181b64550b829a031e1724e6430', '010000f093f5e143d1ee2318452b46235d588181b64550b829a031e1724e6430', '010000f093f5e14301b1b858c52352125d588181b64550b829a031e1724e6430', '0000000000000000003a50c8bb18ef0b00000000000000000000000000000000', '000000000000000000b562c9d0a58a1100000000000000000000000000000000', '000000000000000040a5e74f47d41a0700000000000000000000000000000000', '010000f093f5e143790981466235d2225d588181b64550b829a031e1724e6430', '010000f093f5e14391ebd30cf26fb5225d588181b64550b829a031e1724e6430', '010000f093f5e1439170b97990e141235d588181b64550b829a031e1724e6430', '010000f093f5e1439170b97990e141235d588181b64550b829a031e1724e6430', '010000f093f5e1439170b97990e141235d588181b64550b829a031e1724e6430', '010000f093f5e1439170b97990e141235d588181b64550b829a031e1724e6430', '010000f093f5e1439170b97990e141235d588181b64550b829a031e1724e6430', '010000f093f5e1439170b97990e141235d588181b64550b829a031e1724e6430', '010000f093f5e143714d101793ba51195d588181b64550b829a031e1724e6430', '010000f093f5e143d1a6eccd8893bf185d588181b64550b829a031e1724e6430', '0000000000000000000edf4df675810600000000000000000000000000000000', '0000000000000000009ce85dd75f0a2800000000000000000000000000000000', '0000000000000000c04d0b8ca216591a00000000000000000000000000000000', '010000f093f5e143110f4430b9138e255d588181b64550b829a031e1724e6430', '010000f093f5e1439170b97990e141235d588181b64550b829a031e1724e6430', '010000f093f5e1439170b97990e141235d588181b64550b829a031e1724e6430', '010000f093f5e1439170b97990e141235d588181b64550b829a031e1724e6430', '010000f093f5e1439170b97990e141235d588181b64550b829a031e1724e6430', '010000f093f5e1439170b97990e141235d588181b64550b829a031e1724e6430', '010000f093f5e1439170b97990e141235d588181b64550b829a031e1724e6430', '010000f093f5e1439170b97990e141235d588181b64550b829a031e1724e6430', '010000f093f5e1439189912f6e069a155d588181b64550b829a031e1724e6430', '010000f093f5e14391bb7438b55d700b5d588181b64550b829a031e1724e6430', '0000000000000000404ca4c126ef110400000000000000000000000000000000', '000000000000000060b381845a65652300000000000000000000000000000000', '0000000000000000d0888ab70535460b00000000000000000000000000000000', '010000f093f5e143f19ebc344c9d13245d588181b64550b829a031e1724e6430', '010000f093f5e1439170b97990e141235d588181b64550b829a031e1724e6430', '010000f093f5e1439170b97990e141235d588181b64550b829a031e1724e6430', '010000f093f5e1439170b97990e141235d588181b64550b829a031e1724e6430', '010000f093f5e1439170b97990e141235d588181b64550b829a031e1724e6430', '010000f093f5e1439173e41429e885225d588181b64550b829a031e1724e6430', '010000f093f5e143110bc6dc73c5bf205d588181b64550b829a031e1724e6430', '0000000000000000003b346488eee50b00000000000000000000000000000000', '0000000000000000c0eab0e9085eb10f00000000000000000000000000000000', '00000000000000008088917499693f1000000000000000000000000000000000', '00000000000000002025ef938455341000000000000000000000000000000000', '010000f093f5e143d1a7626c06a1d0265d588181b64550b829a031e1724e6430', '010000f093f5e14391708486af7d38265d588181b64550b829a031e1724e6430', '010000f093f5e1439170b97990e141235d588181b64550b829a031e1724e6430', '010000f093f5e1439170b97990e141235d588181b64550b829a031e1724e6430', '010000f093f5e14391e3afaf82e6b4225d588181b64550b829a031e1724e6430', '010000f093f5e14311cf254a4ec2be215d588181b64550b829a031e1724e6430', '00000000000000000051e6670fdc880900000000000000000000000000000000', '000000000000000080a49d22aee59d1200000000000000000000000000000000', '000000000000000000d14f29dcafcc1d00000000000000000000000000000000', '000000000000000080f000c23bb8971500000000000000000000000000000000', '000000000000000080cdf28b7bf4b10300000000000000000000000000000000', '0000000000000000908d4d1a0a96040600000000000000000000000000000000', '010000f093f5e143f170a8622e8166205d588181b64550b829a031e1724e6430', '010000f093f5e14391e2d74d700836235d588181b64550b829a031e1724e6430', '010000f093f5e1439170b97990e141235d588181b64550b829a031e1724e6430', '010000f093f5e14391a8bc245b3eb1205d588181b64550b829a031e1724e6430', '000000000000000000af4a1e4ebe200a00000000000000000000000000000000', '0000000000000000004267b9cb58511500000000000000000000000000000000', '0000000000000000003e2f86671db61a00000000000000000000000000000000', '00000000000000000025464f0052c31900000000000000000000000000000000', '00000000000000000051084f7bfc610200000000000000000000000000000000', '010000f093f5e143d1e7ffadb614b5205d588181b64550b829a031e1724e6430', '010000f093f5e1433182031be0fbff175d588181b64550b829a031e1724e6430', '010000f093f5e1431186a15f5a44c91b5d588181b64550b829a031e1724e6430', '010000f093f5e14391b0966faacd73215d588181b64550b829a031e1724e6430', '010000f093f5e1439170b97990e141235d588181b64550b829a031e1724e6430', '010000f093f5e1439170b97990e141235d588181b64550b829a031e1724e6430', '010000f093f5e1439126bd3bef3c35205d588181b64550b829a031e1724e6430', '010000f093f5e143910e02043a0526255d588181b64550b829a031e1724e6430', '000000000000000000837b8febaadc0000000000000000000000000000000000', '010000f093f5e14391185364335aca265d588181b64550b829a031e1724e6430', '010000f093f5e143910cf456fc720d1f5d588181b64550b829a031e1724e6430', '010000f093f5e143d1339897ee41ab195d588181b64550b829a031e1724e6430', '010000f093f5e14371153434aeb9d31d5d588181b64550b829a031e1724e6430', '010000f093f5e143d122ed0b504c47215d588181b64550b829a031e1724e6430', '010000f093f5e1439170b97990e141235d588181b64550b829a031e1724e6430', '010000f093f5e1439170b97990e141235d588181b64550b829a031e1724e6430', '010000f093f5e1439170b97990e141235d588181b64550b829a031e1724e6430', '010000f093f5e1439170b97990e141235d588181b64550b829a031e1724e6430']], 'proof': '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', 'transcript_type': 'EVM'}\n",
      "Elapsed time: 29.788386 seconds\n"
     ]
    }
   ],
   "source": [
    "# GENERATE A PROOF\n",
    "\n",
    "# Start time\n",
    "start_proving_time = time.time()\n",
    "\n",
    "proof_path = os.path.join('generating_files/proof.pf')\n",
    "\n",
    "res = ezkl.prove(\n",
    "        witness_path,\n",
    "        compiled_model_path,\n",
    "        pk_path,\n",
    "        proof_path,\n",
    "\n",
    "        \"single\",\n",
    "    )\n",
    "\n",
    "print(res)\n",
    "assert os.path.isfile(proof_path)\n",
    "\n",
    "\n",
    "# End time\n",
    "end_proving_time = time.time()\n",
    "\n",
    "# Calculate elapsed time\n",
    "elapsed_proving_time = end_proving_time - start_proving_time\n",
    "print(f\"Elapsed time: {elapsed_time:.6f} seconds\")"
   ]
  },
  {
   "cell_type": "markdown",
   "id": "BequUUUJevHA",
   "metadata": {
    "id": "BequUUUJevHA"
   },
   "source": [
    "# VERIFY"
   ]
  },
  {
   "cell_type": "code",
   "execution_count": 17,
   "id": "FLEruRp1ewe1",
   "metadata": {
    "colab": {
     "base_uri": "https://localhost:8080/"
    },
    "id": "FLEruRp1ewe1",
    "outputId": "719305df-dbdb-4f81-d831-636089faa392"
   },
   "outputs": [
    {
     "name": "stdout",
     "output_type": "stream",
     "text": [
      "verified\n",
      "Elapsed time: 0.163738 seconds\n"
     ]
    }
   ],
   "source": [
    "# Start time\n",
    "start_verify_time = time.time()\n",
    "\n",
    "# VERIFY IT\n",
    "\n",
    "res = ezkl.verify(\n",
    "        proof_path,\n",
    "        settings_path,\n",
    "        vk_path,\n",
    "    )\n",
    "\n",
    "assert res == True\n",
    "print(\"verified\")\n",
    "\n",
    "\n",
    "# End time\n",
    "end_verify_time = time.time()\n",
    "\n",
    "# Calculate elapsed time\n",
    "elapsed_verify_time = end_verify_time - start_verify_time\n",
    "print(f\"Elapsed time: {elapsed_verify_time:.6f} seconds\")"
   ]
  },
  {
   "cell_type": "markdown",
   "id": "3hzNVxGTEaVb",
   "metadata": {
    "id": "3hzNVxGTEaVb"
   },
   "source": [
    "# Verifier translate from \"instances\" to \"float\""
   ]
  },
  {
   "cell_type": "code",
   "execution_count": 18,
   "id": "tBeY2X26u15q",
   "metadata": {
    "colab": {
     "base_uri": "https://localhost:8080/"
    },
    "id": "tBeY2X26u15q",
    "outputId": "44722b45-a6f7-4a9f-8eb7-0d0f738eab94"
   },
   "outputs": [
    {
     "name": "stdout",
     "output_type": "stream",
     "text": [
      "0.18665149127670336\n"
     ]
    }
   ],
   "source": [
    "# mean of commit-convolutional layer of the 1st part (top-left) of the image\n",
    "print(ezkl.felt_to_float('000000000024a5b871d21db21819f20b00000000000000000000000000000000', 126))\n",
    "# the result will be 0.18665149127670336"
   ]
  }
 ],
 "metadata": {
  "colab": {
   "provenance": []
  },
  "kernelspec": {
   "display_name": "Python 3 (ipykernel)",
   "language": "python",
   "name": "python3"
  },
  "language_info": {
   "codemirror_mode": {
    "name": "ipython",
    "version": 3
   },
   "file_extension": ".py",
   "mimetype": "text/x-python",
   "name": "python",
   "nbconvert_exporter": "python",
   "pygments_lexer": "ipython3",
   "version": "3.9.15"
  }
 },
 "nbformat": 4,
 "nbformat_minor": 5
}
